{
 "cells": [
  {
   "cell_type": "code",
   "execution_count": 1,
   "metadata": {},
   "outputs": [
    {
     "name": "stdout",
     "output_type": "stream",
     "text": [
      "Jupyter environment detected. Enabling Open3D WebVisualizer.\n",
      "[Open3D INFO] WebRTC GUI backend enabled.\n",
      "[Open3D INFO] WebRTCWindowSystem: HTTP handshake server disabled.\n"
     ]
    }
   ],
   "source": [
    "import numpy as np\n",
    "import open3d as o3d\n",
    "import time\n",
    "\n",
    "def main_visualization_loop():\n",
    "    # 创建一个可视化窗口\n",
    "    vis = o3d.visualization.Visualizer()\n",
    "    vis.create_window(width=800, height=600)\n",
    "\n",
    "    # 初始化一个点云对象并随机生成一些点云数据\n",
    "    pointcloud = np.random.rand(100, 3)  # 生成100个点的随机点云\n",
    "    pcd = o3d.geometry.PointCloud()\n",
    "    pcd.points = o3d.utility.Vector3dVector(pointcloud)\n",
    "\n",
    "    # 将点云对象添加到可视化对象中\n",
    "    vis.add_geometry(pcd)\n",
    "\n",
    "    for i in range(100):  # 循环100次来观察点云的变化\n",
    "        # 随机生成一些新的点云数据\n",
    "        pointcloud = np.random.rand(100, 3)  # 生成新的随机点云\n",
    "        pcd.points = o3d.utility.Vector3dVector(pointcloud)\n",
    "        \n",
    "        # 更新显示\n",
    "        vis.update_geometry(pcd)\n",
    "        vis.poll_events()\n",
    "        vis.update_renderer()\n",
    "        time.sleep(0.1)  # 暂停一小会儿，以便我们可以看到变化\n",
    "\n",
    "if __name__ == \"__main__\":\n",
    "    main_visualization_loop()\n"
   ]
  },
  {
   "cell_type": "code",
   "execution_count": null,
   "metadata": {},
   "outputs": [],
   "source": [
    "import numpy as np\n",
    "import open3d as o3d\n",
    "import time\n",
    "\n",
    "def main_visualization_loop():\n",
    "    # 创建一个可视化窗口\n",
    "    vis = o3d.visualization.Visualizer()\n",
    "    vis.create_window(width=800, height=600)\n",
    "\n",
    "    # 初始化一个空的点云对象并将其添加到可视化对象中\n",
    "    pcd = o3d.geometry.PointCloud()\n",
    "    vis.add_geometry(pcd)\n",
    "\n",
    "    while True:\n",
    "        # 随机生成一些点云数据\n",
    "        pointcloud = np.random.rand(100, 3)  # 生成100个点的随机点云\n",
    "        # 更新点云数据并显示\n",
    "        update_and_display_pointcloud(pointcloud, vis, pcd)\n",
    "        time.sleep(0.5)  # 暂停一小会儿，以便我们可以看到变化\n",
    "\n",
    "def update_and_display_pointcloud(pointcloud, visual, pcd):\n",
    "    # 更新点云对象的点数据\n",
    "    pcd.points = o3d.utility.Vector3dVector(pointcloud)\n",
    "    \n",
    "    # 更新显示\n",
    "    visual.update_geometry(pcd)\n",
    "    visual.poll_events()\n",
    "    visual.update_renderer()\n",
    "\n",
    "if __name__ == \"__main__\":\n",
    "    main_visualization_loop()\n"
   ]
  }
 ],
 "metadata": {
  "kernelspec": {
   "display_name": "Python 3",
   "language": "python",
   "name": "python3"
  },
  "language_info": {
   "codemirror_mode": {
    "name": "ipython",
    "version": 3
   },
   "file_extension": ".py",
   "mimetype": "text/x-python",
   "name": "python",
   "nbconvert_exporter": "python",
   "pygments_lexer": "ipython3",
   "version": "3.8.10"
  }
 },
 "nbformat": 4,
 "nbformat_minor": 2
}
