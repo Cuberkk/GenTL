{
 "cells": [
  {
   "cell_type": "code",
   "execution_count": 1,
   "metadata": {},
   "outputs": [
    {
     "name": "stdout",
     "output_type": "stream",
     "text": [
      "Jupyter environment detected. Enabling Open3D WebVisualizer.\n",
      "[Open3D INFO] WebRTC GUI backend enabled.\n",
      "[Open3D INFO] WebRTCWindowSystem: HTTP handshake server disabled.\n"
     ]
    }
   ],
   "source": [
    "import numpy as np\n",
    "import open3d as o3d\n",
    "import time\n",
    "\n",
    "def main_visualization_loop():\n",
    "    # 创建一个可视化窗口\n",
    "    vis = o3d.visualization.Visualizer()\n",
    "    vis.create_window(width=800, height=600)\n",
    "\n",
    "    # 初始化一个点云对象并随机生成一些点云数据\n",
    "    pointcloud = np.random.rand(100, 3)  # 生成100个点的随机点云\n",
    "    pcd = o3d.geometry.PointCloud()\n",
    "    pcd.points = o3d.utility.Vector3dVector(pointcloud)\n",
    "\n",
    "    # 将点云对象添加到可视化对象中\n",
    "    vis.add_geometry(pcd)\n",
    "\n",
    "    for i in range(100):  # 循环100次来观察点云的变化\n",
    "        # 随机生成一些新的点云数据\n",
    "        pointcloud = np.random.rand(100, 3)  # 生成新的随机点云\n",
    "        pcd.points = o3d.utility.Vector3dVector(pointcloud)\n",
    "        \n",
    "        # 更新显示\n",
    "        vis.update_geometry(pcd)\n",
    "        vis.poll_events()\n",
    "        vis.update_renderer()\n",
    "        time.sleep(0.1)  # 暂停一小会儿，以便我们可以看到变化\n",
    "\n",
    "if __name__ == \"__main__\":\n",
    "    main_visualization_loop()\n"
   ]
  },
  {
   "cell_type": "code",
   "execution_count": null,
   "metadata": {},
   "outputs": [],
   "source": [
    "import numpy as np\n",
    "import open3d as o3d\n",
    "import time\n",
    "\n",
    "def main_visualization_loop():\n",
    "    # 创建一个可视化窗口\n",
    "    vis = o3d.visualization.Visualizer()\n",
    "    vis.create_window(width=800, height=600)\n",
    "\n",
    "    # 初始化一个空的点云对象并将其添加到可视化对象中\n",
    "    pcd = o3d.geometry.PointCloud()\n",
    "    vis.add_geometry(pcd)\n",
    "\n",
    "    while True:\n",
    "        # 随机生成一些点云数据\n",
    "        pointcloud = np.random.rand(100, 3)  # 生成100个点的随机点云\n",
    "        # 更新点云数据并显示\n",
    "        update_and_display_pointcloud(pointcloud, vis, pcd)\n",
    "        time.sleep(0.5)  # 暂停一小会儿，以便我们可以看到变化\n",
    "\n",
    "def update_and_display_pointcloud(pointcloud, visual, pcd):\n",
    "    # 更新点云对象的点数据\n",
    "    pcd.points = o3d.utility.Vector3dVector(pointcloud)\n",
    "    \n",
    "    # 更新显示\n",
    "    visual.update_geometry(pcd)\n",
    "    visual.poll_events()\n",
    "    visual.update_renderer()\n",
    "\n",
    "if __name__ == \"__main__\":\n",
    "    main_visualization_loop()\n"
   ]
  },
  {
   "cell_type": "code",
   "execution_count": 3,
   "metadata": {},
   "outputs": [
    {
     "name": "stdout",
     "output_type": "stream",
     "text": [
      "[[100 200 300]\n",
      " [  0   0   0]\n",
      " [150 250 350]\n",
      " [  0   0   0]]\n"
     ]
    }
   ],
   "source": [
    "import numpy as np\n",
    "\n",
    "# 创建一个示例矩阵\n",
    "r = np.array([[100, 200, 300], \n",
    "                   [400, 500, 600], \n",
    "                   [150, 250, 350],\n",
    "                   [700, 800, 900]])\n",
    "\n",
    "# 将第一列元素大于300的行的所有元素都变为0\n",
    "r[r[:, 0] > 300] = 0\n",
    "print(r)"
   ]
  },
  {
   "cell_type": "code",
   "execution_count": 6,
   "metadata": {},
   "outputs": [
    {
     "name": "stdout",
     "output_type": "stream",
     "text": [
      "[[0. 0. 0.]]\n"
     ]
    }
   ],
   "source": [
    "import numpy as np\n",
    "\n",
    "texture_rgb = np.zeros((1, 3))\n",
    "print(texture_rgb)"
   ]
  },
  {
   "cell_type": "code",
   "execution_count": 7,
   "metadata": {},
   "outputs": [
    {
     "data": {
      "text/plain": [
       "(array([[1, 3, 5],\n",
       "        [5, 3, 2],\n",
       "        [1, 2, 0],\n",
       "        [3, 1, 3],\n",
       "        [5, 0, 4],\n",
       "        [1, 1, 5]]),\n",
       " 4)"
      ]
     },
     "execution_count": 7,
     "metadata": {},
     "output_type": "execute_result"
    }
   ],
   "source": [
    "# 假设我们有一个 n 行 3 列的矩阵，这里以 n = 6 为例，并随机生成一些零和非零行\n",
    "n = 6\n",
    "matrix = np.random.choice([0, 1, 2, 3, 4, 5], (n, 3))\n",
    "\n",
    "# 计算非零行的数量\n",
    "# 使用 all() 函数沿着行的方向检查是否每个元素都是非零\n",
    "non_zero_rows = np.sum(np.all(matrix != 0, axis=1))\n",
    "\n",
    "matrix, non_zero_rows\n",
    "\n"
   ]
  }
 ],
 "metadata": {
  "kernelspec": {
   "display_name": "Python 3",
   "language": "python",
   "name": "python3"
  },
  "language_info": {
   "codemirror_mode": {
    "name": "ipython",
    "version": 3
   },
   "file_extension": ".py",
   "mimetype": "text/x-python",
   "name": "python",
   "nbconvert_exporter": "python",
   "pygments_lexer": "ipython3",
   "version": "3.8.10"
  }
 },
 "nbformat": 4,
 "nbformat_minor": 2
}
